{
 "cells": [
  {
   "cell_type": "code",
   "execution_count": 1,
   "metadata": {},
   "outputs": [],
   "source": [
    "import pandas as pd\n",
    "import cassandra\n",
    "import re\n",
    "import os\n",
    "import glob\n",
    "import numpy as np\n",
    "import json\n",
    "import csv\n",
    "import matplotlib.pyplot as plt\n",
    "from cassandra.cluster import Cluster\n",
    "import requests\n"
   ]
  },
  {
   "cell_type": "markdown",
   "metadata": {},
   "source": []
  },
  {
   "cell_type": "code",
   "execution_count": 10,
   "metadata": {},
   "outputs": [],
   "source": [
    "cluster = Cluster(['127.0.0.1']) \n",
    "session = cluster.connect()"
   ]
  },
  {
   "cell_type": "code",
   "execution_count": 3,
   "metadata": {},
   "outputs": [],
   "source": [
    "keyspace_name = \"data_quran\"  \n",
    "\n",
    "\n",
    "session.execute(\"CREATE KEYSPACE IF NOT EXISTS data_quran WITH replication = {'class': 'SimpleStrategy', 'replication_factor': '1'}\")\n",
    "\n",
    "session.set_keyspace('data_quran')"
   ]
  },
  {
   "cell_type": "code",
   "execution_count": 4,
   "metadata": {},
   "outputs": [],
   "source": [
    "session.set_keyspace('data_quran')"
   ]
  },
  {
   "cell_type": "code",
   "execution_count": 5,
   "metadata": {},
   "outputs": [
    {
     "name": "stdout",
     "output_type": "stream",
     "text": [
      "Table 'arabic' created successfully!\n"
     ]
    }
   ],
   "source": [
    "create_table_query = \"\"\"\n",
    "    CREATE TABLE IF NOT EXISTS arabic (\n",
    "        verse_number int PRIMARY KEY,\n",
    "        surah int,\n",
    "        ayah_id int,\n",
    "        text varchar\n",
    "    );\n",
    "\"\"\"\n",
    "\n",
    "try:\n",
    "    session.execute(create_table_query)\n",
    "    print(\"Table 'arabic' created successfully!\")\n",
    "except Exception as e:\n",
    "    print(\"Error:\", e)"
   ]
  },
  {
   "cell_type": "code",
   "execution_count": 6,
   "metadata": {},
   "outputs": [
    {
     "name": "stdout",
     "output_type": "stream",
     "text": [
      "Table 'Tafseer' created successfully!\n"
     ]
    }
   ],
   "source": [
    "create_table_query = \"\"\"\n",
    "    CREATE TABLE IF NOT EXISTS Tafseer (\n",
    "        Name varchar,\n",
    "        Surah int,\n",
    "        Ayat int,\n",
    "        Verse text,\n",
    "        Tafseer text,\n",
    "        PRIMARY KEY (Name, Surah, Ayat)\n",
    "    );\n",
    "\"\"\"\n",
    "\n",
    "try:\n",
    "    session.execute(create_table_query)\n",
    "    print(\"Table 'Tafseer' created successfully!\")\n",
    "except Exception as e:\n",
    "    print(\"Error: Issue creating table\")\n",
    "    print(e)"
   ]
  },
  {
   "cell_type": "code",
   "execution_count": 7,
   "metadata": {},
   "outputs": [
    {
     "name": "stdout",
     "output_type": "stream",
     "text": [
      "Data inserted successfully!\n"
     ]
    }
   ],
   "source": [
    "# Path to your CSV file\n",
    "csv_file = r\"/Users/hilmanyusoh/Desktop/Final-Project/arabic_ayah.csv\"  # Replace with your CSV file path\n",
    "\n",
    "# Read data from CSV and insert into Cassandra\n",
    "try:\n",
    "    # Read CSV file into DataFrame\n",
    "    df = pd.read_csv(csv_file)\n",
    "    \n",
    "    # Iterate over DataFrame rows and insert into Cassandra\n",
    "    for row in df.itertuples(index=False):\n",
    "        # Prepare and execute INSERT query\n",
    "        insert_query = session.prepare(\"INSERT INTO arabic (verse_number, surah, ayah_id, text) VALUES (?, ?, ?, ?)\")\n",
    "        session.execute(insert_query, (row.verse_number, row.surah, row.ayah_id, row.text))\n",
    "        \n",
    "    print(\"Data inserted successfully!\")\n",
    "except Exception as e:\n",
    "    print(\"Error: Inserting Rows\")\n",
    "    print(e)"
   ]
  },
  {
   "cell_type": "code",
   "execution_count": 8,
   "metadata": {},
   "outputs": [
    {
     "name": "stdout",
     "output_type": "stream",
     "text": [
      "Data inserted successfully!\n"
     ]
    }
   ],
   "source": [
    "file_path = r\"/Users/hilmanyusoh/Desktop/Final-Project/Quran_English_with_Tafseer.csv\"\n",
    "\n",
    "try:\n",
    "    with open(file_path, 'r', encoding='utf-8') as file:\n",
    "        next(file) \n",
    "        for line in file:\n",
    "            parts = line.strip().split(',')  # Assuming data is CSV\n",
    "            name = parts[0]\n",
    "            surah = int(parts[1])\n",
    "            ayat = int(parts[2])\n",
    "            verse = parts[3]\n",
    "            tafseer = parts[4]\n",
    "            # Prepare and execute INSERT query\n",
    "            insert_query = session.prepare(\"INSERT INTO Tafseer (Name, Surah, Ayat, Verse, Tafseer) VALUES (?, ?, ?, ?, ?)\")\n",
    "            session.execute(insert_query, (name, surah, ayat, verse, tafseer))\n",
    "    print(\"Data inserted successfully!\")\n",
    "except Exception as e:\n",
    "    print(\"Error: Inserting Data\")\n",
    "    print(e)\n",
    "\n",
    "# Close connection\n",
    "cluster.shutdown()"
   ]
  },
  {
   "cell_type": "code",
   "execution_count": 11,
   "metadata": {},
   "outputs": [
    {
     "name": "stdout",
     "output_type": "stream",
     "text": [
      "Row(verse_number=4317, ayah_id=45, surah=42, text='وَتَرَىٰهُمۡ يُعۡرَضُونَ عَلَيۡهَا خَٰشِعِينَ مِنَ ٱلذُّلِّ يَنظُرُونَ مِن طَرۡفٍ خَفِيّٖۗ وَقَالَ ٱلَّذِينَ ءَامَنُوٓاْ إِنَّ ٱلۡخَٰسِرِينَ ٱلَّذِينَ خَسِرُوٓاْ أَنفُسَهُمۡ وَأَهۡلِيهِمۡ يَوۡمَ ٱلۡقِيَٰمَةِۗ أَلَآ إِنَّ ٱلظَّـٰلِمِينَ فِي عَذَابٖ مُّقِيمٖ')\n"
     ]
    }
   ],
   "source": [
    "keyspace_name = \"data_quran\"\n",
    "session.set_keyspace(keyspace_name)\n",
    "\n",
    "\n",
    "table_name = \"arabic\"\n",
    "\n",
    "\n",
    "rows = session.execute(f\"SELECT * FROM {table_name} LIMIT 1\")\n",
    "\n",
    "\n",
    "for row in rows:\n",
    "    print(row)  # "
   ]
  },
  {
   "cell_type": "code",
   "execution_count": 12,
   "metadata": {},
   "outputs": [
    {
     "name": "stdout",
     "output_type": "stream",
     "text": [
      "Row(name='The Reality', surah=69, ayat=1, tafseer='The Reality the Resurrection in which is realised the truth of all that was rejected in the way of the raising from the graves the reckoning and the requital or it means the Resurrection which will manifest all of that.', verse='The Reality!')\n"
     ]
    }
   ],
   "source": [
    "keyspace_name = \"data_quran\"\n",
    "session.set_keyspace(keyspace_name)\n",
    "\n",
    "\n",
    "table_name = \"Tafseer\"\n",
    "\n",
    "\n",
    "rows = session.execute(f\"SELECT * FROM {table_name} LIMIT 1\")\n",
    "\n",
    "\n",
    "for row in rows:\n",
    "    print(row)  #"
   ]
  },
  {
   "cell_type": "code",
   "execution_count": 29,
   "metadata": {},
   "outputs": [
    {
     "name": "stdout",
     "output_type": "stream",
     "text": [
      "The phrase 'earth' occurs 0 times in al-quran.\n"
     ]
    }
   ],
   "source": []
  },
  {
   "cell_type": "code",
   "execution_count": 14,
   "metadata": {},
   "outputs": [
    {
     "name": "stdout",
     "output_type": "stream",
     "text": [
      "The word 'women' appears 38 times.\n"
     ]
    }
   ],
   "source": [
    "query = \"SELECT surah, ayat, tafseer FROM Tafseer\"\n",
    "try:\n",
    "    rows = session.execute(query)\n",
    "except Exception as e:\n",
    "    print(\"Error executing query:\", e)\n",
    "    rows = []\n",
    "\n",
    "\n",
    "search_word = \"women\"\n",
    "\n",
    "\n",
    "occurrence_count = 0\n",
    "for row in rows:\n",
    "    if search_word in row.tafseer:\n",
    "        occurrence_count += 1\n",
    "\n",
    "\n",
    "print(f\"The word '{search_word}' appears {occurrence_count} times.\")"
   ]
  },
  {
   "cell_type": "code",
   "execution_count": 37,
   "metadata": {},
   "outputs": [
    {
     "name": "stdout",
     "output_type": "stream",
     "text": [
      "The word 'Christian' appears 15 times.\n"
     ]
    }
   ],
   "source": [
    "query = \"SELECT surah, ayat, tafseer FROM Tafseer\"\n",
    "try:\n",
    "    rows = session.execute(query)\n",
    "except Exception as e:\n",
    "    print(\"Error executing query:\", e)\n",
    "    rows = []\n",
    "\n",
    "\n",
    "search_word = \"Christian\"\n",
    "\n",
    "\n",
    "occurrence_count = 0\n",
    "for row in rows:\n",
    "    if search_word in row.tafseer:\n",
    "        occurrence_count += 1\n",
    "\n",
    "\n",
    "print(f\"The word '{search_word}' appears {occurrence_count} times.\")"
   ]
  },
  {
   "cell_type": "code",
   "execution_count": 38,
   "metadata": {},
   "outputs": [
    {
     "name": "stdout",
     "output_type": "stream",
     "text": [
      "The word 'Israel' appears 28 times.\n"
     ]
    }
   ],
   "source": [
    "query = \"SELECT surah, ayat, tafseer FROM Tafseer\"\n",
    "try:\n",
    "    rows = session.execute(query)\n",
    "except Exception as e:\n",
    "    print(\"Error executing query:\", e)\n",
    "    rows = []\n",
    "\n",
    "\n",
    "search_word = \"Israel\"\n",
    "\n",
    "\n",
    "occurrence_count = 0\n",
    "for row in rows:\n",
    "    if search_word in row.tafseer:\n",
    "        occurrence_count += 1\n",
    "\n",
    "\n",
    "print(f\"The word '{search_word}' appears {occurrence_count} times.\")"
   ]
  },
  {
   "cell_type": "code",
   "execution_count": 42,
   "metadata": {},
   "outputs": [
    {
     "name": "stdout",
     "output_type": "stream",
     "text": [
      "The word 'Muhammad' appears 121 times.\n"
     ]
    }
   ],
   "source": [
    "query = \"SELECT surah, ayat, tafseer FROM Tafseer\"\n",
    "try:\n",
    "    rows = session.execute(query)\n",
    "except Exception as e:\n",
    "    print(\"Error executing query:\", e)\n",
    "    rows = []\n",
    "\n",
    "\n",
    "search_word = \"Muhammad\"\n",
    "\n",
    "\n",
    "occurrence_count = 0\n",
    "for row in rows:\n",
    "    if search_word in row.tafseer:\n",
    "        occurrence_count += 1\n",
    "\n",
    "\n",
    "print(f\"The word '{search_word}' appears {occurrence_count} times.\")"
   ]
  },
  {
   "cell_type": "code",
   "execution_count": 47,
   "metadata": {},
   "outputs": [
    {
     "name": "stdout",
     "output_type": "stream",
     "text": [
      "The word 'Christian' appears 15 times.\n"
     ]
    }
   ],
   "source": [
    "query = \"SELECT surah,ayat, tafseer From Tafseer\"\n",
    "try:\n",
    "    rows = session.execute(query)\n",
    "except Exception as e:\n",
    "    print(\"Error executing query:\", e)\n",
    "    rows = []\n",
    "    \n",
    "search_word = \"Christian\"\n",
    "\n",
    "occurrence_count = 0\n",
    "for row in rows:\n",
    "    if search_word in row.tafseer:\n",
    "        occurrence_count += 1\n",
    "\n",
    "\n",
    "print(f\"The word '{search_word}' appears {occurrence_count} times.\")"
   ]
  },
  {
   "cell_type": "code",
   "execution_count": null,
   "metadata": {},
   "outputs": [],
   "source": [
    "Allah"
   ]
  },
  {
   "cell_type": "code",
   "execution_count": 50,
   "metadata": {},
   "outputs": [
    {
     "name": "stdout",
     "output_type": "stream",
     "text": [
      "The phrase 'ٱلدُّنۡيَا' occurs 111 times in al-quran.\n"
     ]
    }
   ],
   "source": [
    "query = \"SELECT ayah_id, text FROM arabic\"\n",
    "try:\n",
    "    rows = session.execute(query)\n",
    "except Exception as e:\n",
    "    print(\"Error executing query:\", e)\n",
    "    rows = []\n",
    "\n",
    "search_phrase =\"ٱلدُّنۡيَا\"\n",
    "\n",
    "occurrence_count = 0\n",
    "for row in rows:\n",
    "    if search_phrase in row.text:\n",
    "        occurrence_count += 1\n",
    "\n",
    "\n",
    "print(f\"The phrase '{search_phrase}' occurs {occurrence_count} times in al-quran.\")"
   ]
  },
  {
   "cell_type": "code",
   "execution_count": 56,
   "metadata": {},
   "outputs": [
    {
     "name": "stdout",
     "output_type": "stream",
     "text": [
      "The phrase 'ٱلۡقِيَٰمَةِ' occurs 70 times in al-quran.\n"
     ]
    }
   ],
   "source": [
    "query = \"SELECT ayah_id, text FROM arabic\"\n",
    "try:\n",
    "    rows = session.execute(query)\n",
    "except Exception as e:\n",
    "    print(\"Error executing query:\", e)\n",
    "    rows = []\n",
    "\n",
    "search_phrase =\"ٱلۡقِيَٰمَةِ\"\n",
    "\n",
    "occurrence_count = 0\n",
    "for row in rows:\n",
    "    if search_phrase in row.text:\n",
    "        occurrence_count += 1\n",
    "\n",
    "\n",
    "print(f\"The phrase '{search_phrase}' occurs {occurrence_count} times in al-quran.\")"
   ]
  },
  {
   "cell_type": "code",
   "execution_count": 54,
   "metadata": {},
   "outputs": [
    {
     "name": "stdout",
     "output_type": "stream",
     "text": [
      "The phrase 'إِبۡلِيس' occurs 11 times in al-quran.\n"
     ]
    }
   ],
   "source": [
    "query = \"SELECT ayah_id, text FROM arabic\"\n",
    "try:\n",
    "    rows = session.execute(query)\n",
    "except Exception as e:\n",
    "    print(\"Error executing query:\", e)\n",
    "    rows = []\n",
    "\n",
    "search_phrase =\"إِبۡلِيس\"\n",
    "\n",
    "occurrence_count = 0\n",
    "for row in rows:\n",
    "    if search_phrase in row.text:\n",
    "        occurrence_count += 1\n",
    "\n",
    "\n",
    "print(f\"The phrase '{search_phrase}' occurs {occurrence_count} times in al-quran.\")"
   ]
  },
  {
   "cell_type": "code",
   "execution_count": 55,
   "metadata": {},
   "outputs": [
    {
     "name": "stdout",
     "output_type": "stream",
     "text": [
      "The phrase 'مُوسَى' occurs 121 times in al-quran.\n"
     ]
    }
   ],
   "source": [
    "query = \"SELECT ayah_id, text FROM arabic\"\n",
    "try:\n",
    "    rows = session.execute(query)\n",
    "except Exception as e:\n",
    "    print(\"Error executing query:\", e)\n",
    "    rows = []\n",
    "\n",
    "search_phrase =\"مُوسَى\"\n",
    "\n",
    "occurrence_count = 0\n",
    "for row in rows:\n",
    "    if search_phrase in row.text:\n",
    "        occurrence_count += 1\n",
    "\n",
    "\n",
    "print(f\"The phrase '{search_phrase}' occurs {occurrence_count} times in al-quran.\")"
   ]
  },
  {
   "cell_type": "code",
   "execution_count": null,
   "metadata": {},
   "outputs": [],
   "source": [
    "عِيسَى"
   ]
  },
  {
   "cell_type": "code",
   "execution_count": null,
   "metadata": {},
   "outputs": [],
   "source": [
    "مَرۡيَمَ"
   ]
  },
  {
   "cell_type": "code",
   "execution_count": null,
   "metadata": {},
   "outputs": [],
   "source": [
    "إِبۡرَٰهِـۧمَ"
   ]
  },
  {
   "cell_type": "code",
   "execution_count": null,
   "metadata": {},
   "outputs": [],
   "source": [
    "ٱلنَّارِۖ"
   ]
  }
 ],
 "metadata": {
  "kernelspec": {
   "display_name": "base",
   "language": "python",
   "name": "python3"
  },
  "language_info": {
   "codemirror_mode": {
    "name": "ipython",
    "version": 3
   },
   "file_extension": ".py",
   "mimetype": "text/x-python",
   "name": "python",
   "nbconvert_exporter": "python",
   "pygments_lexer": "ipython3",
   "version": "3.11.5"
  }
 },
 "nbformat": 4,
 "nbformat_minor": 2
}
